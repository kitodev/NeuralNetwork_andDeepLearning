{
  "nbformat": 4,
  "nbformat_minor": 0,
  "metadata": {
    "colab": {
      "name": "Broadcast example.ipynb",
      "provenance": [],
      "authorship_tag": "ABX9TyOHF/lt16TpvGc9XNV2ioya",
      "include_colab_link": true
    },
    "kernelspec": {
      "name": "python3",
      "display_name": "Python 3"
    }
  },
  "cells": [
    {
      "cell_type": "markdown",
      "metadata": {
        "id": "view-in-github",
        "colab_type": "text"
      },
      "source": [
        "<a href=\"https://colab.research.google.com/github/kitodev/NeuralNetwork_andDeepLearning/blob/main/Broadcast_example.ipynb\" target=\"_parent\"><img src=\"https://colab.research.google.com/assets/colab-badge.svg\" alt=\"Open In Colab\"/></a>"
      ]
    },
    {
      "cell_type": "code",
      "metadata": {
        "colab": {
          "base_uri": "https://localhost:8080/"
        },
        "id": "72sJo02kGW8Y",
        "outputId": "419cc486-af28-4e76-afc1-a573a882caba"
      },
      "source": [
        "import numpy as np\n",
        "\n",
        "A = np.array([[56.0, 0.0, 4.4, 68.0],\n",
        "                [1.2, 104.0, 52.0, 8.0],\n",
        "                [1.8, 135.0, 99.0, 0.9]])\n",
        "\n",
        "print(A)"
      ],
      "execution_count": 6,
      "outputs": [
        {
          "output_type": "stream",
          "text": [
            "[[ 56.    0.    4.4  68. ]\n",
            " [  1.2 104.   52.    8. ]\n",
            " [  1.8 135.   99.    0.9]]\n"
          ],
          "name": "stdout"
        }
      ]
    },
    {
      "cell_type": "code",
      "metadata": {
        "colab": {
          "base_uri": "https://localhost:8080/"
        },
        "id": "mn9RZyBjHD2S",
        "outputId": "516eb4c7-4281-4ecc-dc5a-92c42d6107bb"
      },
      "source": [
        "cal = A.sum(axis=0)\n",
        "print(cal)"
      ],
      "execution_count": 12,
      "outputs": [
        {
          "output_type": "stream",
          "text": [
            "[ 59.  239.  155.4  76.9]\n"
          ],
          "name": "stdout"
        }
      ]
    },
    {
      "cell_type": "code",
      "metadata": {
        "colab": {
          "base_uri": "https://localhost:8080/"
        },
        "id": "2JBjBc_0Hn4m",
        "outputId": "e61d5833-aa35-48fc-f297-c83afe73e2b7"
      },
      "source": [
        "percentage = 100*A/cal.reshape(1, 4)\n",
        "\n",
        "print(percentage)"
      ],
      "execution_count": 15,
      "outputs": [
        {
          "output_type": "stream",
          "text": [
            "[[94.91525424  0.          2.83140283 88.42652796]\n",
            " [ 2.03389831 43.51464435 33.46203346 10.40312094]\n",
            " [ 3.05084746 56.48535565 63.70656371  1.17035111]]\n"
          ],
          "name": "stdout"
        }
      ]
    }
  ]
}