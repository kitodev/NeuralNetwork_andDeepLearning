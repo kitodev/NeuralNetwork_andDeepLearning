{
  "nbformat": 4,
  "nbformat_minor": 0,
  "metadata": {
    "colab": {
      "name": "Vectorization demo.ipynb",
      "provenance": [],
      "collapsed_sections": [],
      "authorship_tag": "ABX9TyPrGq3nVrdb2QCckvmUGsIP",
      "include_colab_link": true
    },
    "kernelspec": {
      "name": "python3",
      "display_name": "Python 3"
    }
  },
  "cells": [
    {
      "cell_type": "markdown",
      "metadata": {
        "id": "view-in-github",
        "colab_type": "text"
      },
      "source": [
        "<a href=\"https://colab.research.google.com/github/kitodev/NeuralNetwork_andDeepLearning/blob/main/Vectorization_demo.ipynb\" target=\"_parent\"><img src=\"https://colab.research.google.com/assets/colab-badge.svg\" alt=\"Open In Colab\"/></a>"
      ]
    },
    {
      "cell_type": "code",
      "metadata": {
        "id": "AphsaSAKANjG"
      },
      "source": [
        "import numpy as np\n"
      ],
      "execution_count": 1,
      "outputs": []
    },
    {
      "cell_type": "code",
      "metadata": {
        "colab": {
          "base_uri": "https://localhost:8080/"
        },
        "id": "zUfbVQ04AjuI",
        "outputId": "04d42c93-03f8-4d71-c6e9-a428e40c873f"
      },
      "source": [
        "a = np.array([1, 2, 3, 4])\n",
        "print(a)"
      ],
      "execution_count": 3,
      "outputs": [
        {
          "output_type": "stream",
          "text": [
            "[1 2 3 4]\n"
          ],
          "name": "stdout"
        }
      ]
    },
    {
      "cell_type": "code",
      "metadata": {
        "colab": {
          "base_uri": "https://localhost:8080/"
        },
        "id": "P2-8TpEDAuHv",
        "outputId": "0307bcf5-a700-4068-bf35-f5c403336113"
      },
      "source": [
        "import time\n",
        "\n",
        "a = np.random.rand(100000)\n",
        "b = np.random.rand(100000)\n",
        "\n",
        "tic = time.time()\n",
        "\n",
        "c = np.dot(a, b)\n",
        "toc = time.time()\n",
        "print(c)\n",
        "print(\"Vectorized version: \" + str(1000*(toc-tic))+ \"ms\")\n",
        "\n",
        "c = 0\n",
        "tic = time.time()\n",
        "for i in range(100000):\n",
        "  c += a[i]*b[i]\n",
        "toc = time.time()\n",
        "\n",
        "print(c)\n",
        "print(\"For loop: \" + str(1000*(toc-tic)) + \"ms\")"
      ],
      "execution_count": 20,
      "outputs": [
        {
          "output_type": "stream",
          "text": [
            "24887.688462511684\n",
            "Vectorized verison: 4.225730895996094ms\n",
            "24887.688462511476\n",
            "For loop: 173.80785942077637ms\n"
          ],
          "name": "stdout"
        }
      ]
    },
    {
      "cell_type": "code",
      "metadata": {
        "id": "Wh4U3JhdBizp"
      },
      "source": [
        ""
      ],
      "execution_count": 14,
      "outputs": []
    }
  ]
}